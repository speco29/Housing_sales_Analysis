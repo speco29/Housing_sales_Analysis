{
 "cells": [
  {
   "cell_type": "code",
   "execution_count": 1,
   "id": "111d6237-185b-4b2d-9a9c-746a010d8e9c",
   "metadata": {},
   "outputs": [],
   "source": [
    "import numpy as np\n",
    "import pandas as pd\n",
    "import matplotlib.pyplot as plt\n",
    "%matplotlib inline"
   ]
  },
  {
   "cell_type": "code",
   "execution_count": 1,
   "id": "993a2fdf-e99f-4d93-b34f-e84fe12bec5a",
   "metadata": {},
   "outputs": [],
   "source": [
    "import numpy as np\n",
    "import pandas as pd\n",
    "import matplotlib.pyplot as plt\n",
    "%matplotlib inline"
   ]
  },
  {
   "cell_type": "code",
   "execution_count": 3,
   "id": "91fec325-0736-40dc-a326-9204d97363db",
   "metadata": {},
   "outputs": [],
   "source": [
    "Sales=pd.read_csv(\"House Sales.csv\")"
   ]
  },
  {
   "cell_type": "code",
   "execution_count": 4,
   "id": "cedc460f-ebc3-4de4-b4f2-27e367fb3b44",
   "metadata": {},
   "outputs": [
    {
     "data": {
      "text/html": [
       "<div>\n",
       "<style scoped>\n",
       "    .dataframe tbody tr th:only-of-type {\n",
       "        vertical-align: middle;\n",
       "    }\n",
       "\n",
       "    .dataframe tbody tr th {\n",
       "        vertical-align: top;\n",
       "    }\n",
       "\n",
       "    .dataframe thead th {\n",
       "        text-align: right;\n",
       "    }\n",
       "</style>\n",
       "<table border=\"1\" class=\"dataframe\">\n",
       "  <thead>\n",
       "    <tr style=\"text-align: right;\">\n",
       "      <th></th>\n",
       "      <th>Datesold</th>\n",
       "      <th>Postcode</th>\n",
       "      <th>Price</th>\n",
       "      <th>Property Type</th>\n",
       "      <th>Bedrooms</th>\n",
       "      <th>Year</th>\n",
       "    </tr>\n",
       "  </thead>\n",
       "  <tbody>\n",
       "    <tr>\n",
       "      <th>0</th>\n",
       "      <td>07/02/2007 00:00</td>\n",
       "      <td>2607</td>\n",
       "      <td>525000</td>\n",
       "      <td>house</td>\n",
       "      <td>4</td>\n",
       "      <td>2007</td>\n",
       "    </tr>\n",
       "    <tr>\n",
       "      <th>1</th>\n",
       "      <td>27/02/2007 00:00</td>\n",
       "      <td>2906</td>\n",
       "      <td>290000</td>\n",
       "      <td>house</td>\n",
       "      <td>3</td>\n",
       "      <td>2007</td>\n",
       "    </tr>\n",
       "    <tr>\n",
       "      <th>2</th>\n",
       "      <td>07/03/2007 00:00</td>\n",
       "      <td>2905</td>\n",
       "      <td>328000</td>\n",
       "      <td>house</td>\n",
       "      <td>3</td>\n",
       "      <td>2007</td>\n",
       "    </tr>\n",
       "    <tr>\n",
       "      <th>3</th>\n",
       "      <td>09/03/2007 00:00</td>\n",
       "      <td>2905</td>\n",
       "      <td>380000</td>\n",
       "      <td>house</td>\n",
       "      <td>4</td>\n",
       "      <td>2007</td>\n",
       "    </tr>\n",
       "    <tr>\n",
       "      <th>4</th>\n",
       "      <td>21/03/2007 00:00</td>\n",
       "      <td>2906</td>\n",
       "      <td>310000</td>\n",
       "      <td>house</td>\n",
       "      <td>3</td>\n",
       "      <td>2007</td>\n",
       "    </tr>\n",
       "    <tr>\n",
       "      <th>...</th>\n",
       "      <td>...</td>\n",
       "      <td>...</td>\n",
       "      <td>...</td>\n",
       "      <td>...</td>\n",
       "      <td>...</td>\n",
       "      <td>...</td>\n",
       "    </tr>\n",
       "    <tr>\n",
       "      <th>28190</th>\n",
       "      <td>21/12/2018 00:00</td>\n",
       "      <td>2612</td>\n",
       "      <td>580000</td>\n",
       "      <td>unit</td>\n",
       "      <td>2</td>\n",
       "      <td>2018</td>\n",
       "    </tr>\n",
       "    <tr>\n",
       "      <th>28191</th>\n",
       "      <td>22/12/2018 00:00</td>\n",
       "      <td>2602</td>\n",
       "      <td>750000</td>\n",
       "      <td>house</td>\n",
       "      <td>3</td>\n",
       "      <td>2018</td>\n",
       "    </tr>\n",
       "    <tr>\n",
       "      <th>28192</th>\n",
       "      <td>24/12/2018 00:00</td>\n",
       "      <td>2914</td>\n",
       "      <td>640000</td>\n",
       "      <td>house</td>\n",
       "      <td>4</td>\n",
       "      <td>2018</td>\n",
       "    </tr>\n",
       "    <tr>\n",
       "      <th>28193</th>\n",
       "      <td>24/12/2018 00:00</td>\n",
       "      <td>2602</td>\n",
       "      <td>780000</td>\n",
       "      <td>house</td>\n",
       "      <td>3</td>\n",
       "      <td>2018</td>\n",
       "    </tr>\n",
       "    <tr>\n",
       "      <th>28194</th>\n",
       "      <td>24/12/2018 00:00</td>\n",
       "      <td>2603</td>\n",
       "      <td>1410000</td>\n",
       "      <td>house</td>\n",
       "      <td>4</td>\n",
       "      <td>2018</td>\n",
       "    </tr>\n",
       "  </tbody>\n",
       "</table>\n",
       "<p>28195 rows × 6 columns</p>\n",
       "</div>"
      ],
      "text/plain": [
       "               Datesold  Postcode    Price Property Type  Bedrooms  Year\n",
       "0      07/02/2007 00:00      2607   525000         house         4  2007\n",
       "1      27/02/2007 00:00      2906   290000         house         3  2007\n",
       "2      07/03/2007 00:00      2905   328000         house         3  2007\n",
       "3      09/03/2007 00:00      2905   380000         house         4  2007\n",
       "4      21/03/2007 00:00      2906   310000         house         3  2007\n",
       "...                 ...       ...      ...           ...       ...   ...\n",
       "28190  21/12/2018 00:00      2612   580000          unit         2  2018\n",
       "28191  22/12/2018 00:00      2602   750000         house         3  2018\n",
       "28192  24/12/2018 00:00      2914   640000         house         4  2018\n",
       "28193  24/12/2018 00:00      2602   780000         house         3  2018\n",
       "28194  24/12/2018 00:00      2603  1410000         house         4  2018\n",
       "\n",
       "[28195 rows x 6 columns]"
      ]
     },
     "execution_count": 4,
     "metadata": {},
     "output_type": "execute_result"
    }
   ],
   "source": [
    "Sales"
   ]
  },
  {
   "cell_type": "code",
   "execution_count": 5,
   "id": "df34c1c9-3432-4451-904c-27b5eda42fe9",
   "metadata": {},
   "outputs": [
    {
     "data": {
      "text/plain": [
       "Datesold         28195\n",
       "Postcode         28195\n",
       "Price            28195\n",
       "Property Type    28195\n",
       "Bedrooms         28195\n",
       "Year             28195\n",
       "dtype: int64"
      ]
     },
     "execution_count": 5,
     "metadata": {},
     "output_type": "execute_result"
    }
   ],
   "source": [
    "Sales.count()"
   ]
  },
  {
   "cell_type": "code",
   "execution_count": 6,
   "id": "47920ef5-3bf3-4771-877c-dedfcbbf62e8",
   "metadata": {},
   "outputs": [
    {
     "data": {
      "text/plain": [
       "608535.3251640361"
      ]
     },
     "execution_count": 6,
     "metadata": {},
     "output_type": "execute_result"
    }
   ],
   "source": [
    "Sales[\"Price\"].mean()"
   ]
  },
  {
   "cell_type": "code",
   "execution_count": 7,
   "id": "491d4b71-6f48-4ff9-a030-bd6296e7cb50",
   "metadata": {},
   "outputs": [
    {
     "data": {
      "text/plain": [
       "8000000"
      ]
     },
     "execution_count": 7,
     "metadata": {},
     "output_type": "execute_result"
    }
   ],
   "source": [
    "Sales[\"Price\"].max()"
   ]
  },
  {
   "cell_type": "code",
   "execution_count": 8,
   "id": "9e69415d-9c90-41de-990a-c8f014e6e22b",
   "metadata": {},
   "outputs": [
    {
     "data": {
      "text/html": [
       "<div>\n",
       "<style scoped>\n",
       "    .dataframe tbody tr th:only-of-type {\n",
       "        vertical-align: middle;\n",
       "    }\n",
       "\n",
       "    .dataframe tbody tr th {\n",
       "        vertical-align: top;\n",
       "    }\n",
       "\n",
       "    .dataframe thead th {\n",
       "        text-align: right;\n",
       "    }\n",
       "</style>\n",
       "<table border=\"1\" class=\"dataframe\">\n",
       "  <thead>\n",
       "    <tr style=\"text-align: right;\">\n",
       "      <th></th>\n",
       "      <th>Datesold</th>\n",
       "      <th>Postcode</th>\n",
       "      <th>Price</th>\n",
       "      <th>Property Type</th>\n",
       "      <th>Bedrooms</th>\n",
       "      <th>Year</th>\n",
       "    </tr>\n",
       "  </thead>\n",
       "  <tbody>\n",
       "    <tr>\n",
       "      <th>15186</th>\n",
       "      <td>02/11/2015 00:00</td>\n",
       "      <td>2611</td>\n",
       "      <td>8000000</td>\n",
       "      <td>house</td>\n",
       "      <td>4</td>\n",
       "      <td>2015</td>\n",
       "    </tr>\n",
       "  </tbody>\n",
       "</table>\n",
       "</div>"
      ],
      "text/plain": [
       "               Datesold  Postcode    Price Property Type  Bedrooms  Year\n",
       "15186  02/11/2015 00:00      2611  8000000         house         4  2015"
      ]
     },
     "execution_count": 8,
     "metadata": {},
     "output_type": "execute_result"
    }
   ],
   "source": [
    "Sales[Sales[\"Price\"].max()==Sales[\"Price\"]]"
   ]
  },
  {
   "cell_type": "code",
   "execution_count": 11,
   "id": "4319a351-84a6-4ada-976e-deedcee066d7",
   "metadata": {},
   "outputs": [],
   "source": [
    "Sales_Y=Sales.groupby(\"Year\")\n",
    "Sales_P=Sales.groupby(\"Property Type\")\n",
    "Sales_B=Sales.groupby(\"Bedrooms\")"
   ]
  },
  {
   "cell_type": "code",
   "execution_count": 13,
   "id": "7b2c81ec-8434-455a-a012-38e1fb90b6b3",
   "metadata": {},
   "outputs": [
    {
     "data": {
      "text/plain": [
       "{2007: [0, 1, 2, 3, 4, 5, 6, 7, 8, 9, 10, 11, 12, 13, 14, 15, 16, 17, 18, 19, 20, 21, 22, 23, 24, 25, 26, 27, 28, 29, 30, 31, 32, 33, 34, 35, 36, 37, 38, 39, 40, 41, 42, 43, 44, 45, 46, 47, 48, 49, 50, 51, 52, 53, 54, 55, 56, 57, 58, 59, 60, 61, 62, 63, 64, 65, 66, 67, 68, 69, 70, 71, 72, 73, 74, 75, 76, 77, 78, 79, 80, 81, 82, 83, 84, 85, 86, 87, 88, 89, 90, 91, 92, 93, 94, 95, 96, 97, 98, 99, ...], 2008: [147, 148, 149, 150, 151, 152, 153, 154, 155, 156, 157, 158, 159, 160, 161, 162, 163, 164, 165, 166, 167, 168, 169, 170, 171, 172, 173, 174, 175, 176, 177, 178, 179, 180, 181, 182, 183, 184, 185, 186, 187, 188, 189, 190, 191, 192, 193, 194, 195, 196, 197, 198, 199, 200, 201, 202, 203, 204, 205, 206, 207, 208, 209, 210, 211, 212, 213, 214, 215, 216, 217, 218, 219, 220, 221, 222, 223, 224, 225, 226, 227, 228, 229, 230, 231, 232, 233, 234, 235, 236, 237, 238, 239, 240, 241, 242, 243, 244, 245, 246, ...], 2009: [786, 787, 788, 789, 790, 791, 792, 793, 794, 795, 796, 797, 798, 799, 800, 801, 802, 803, 804, 805, 806, 807, 808, 809, 810, 811, 812, 813, 814, 815, 816, 817, 818, 819, 820, 821, 822, 823, 824, 825, 826, 827, 828, 829, 830, 831, 832, 833, 834, 835, 836, 837, 838, 839, 840, 841, 842, 843, 844, 845, 846, 847, 848, 849, 850, 851, 852, 853, 854, 855, 856, 857, 858, 859, 860, 861, 862, 863, 864, 865, 866, 867, 868, 869, 870, 871, 872, 873, 874, 875, 876, 877, 878, 879, 880, 881, 882, 883, 884, 885, ...], 2010: [2212, 2213, 2214, 2215, 2216, 2217, 2218, 2219, 2220, 2221, 2222, 2223, 2224, 2225, 2226, 2227, 2228, 2229, 2230, 2231, 2232, 2233, 2234, 2235, 2236, 2237, 2238, 2239, 2240, 2241, 2242, 2243, 2244, 2245, 2246, 2247, 2248, 2249, 2250, 2251, 2252, 2253, 2254, 2255, 2256, 2257, 2258, 2259, 2260, 2261, 2262, 2263, 2264, 2265, 2266, 2267, 2268, 2269, 2270, 2271, 2272, 2273, 2274, 2275, 2276, 2277, 2278, 2279, 2280, 2281, 2282, 2283, 2284, 2285, 2286, 2287, 2288, 2289, 2290, 2291, 2292, 2293, 2294, 2295, 2296, 2297, 2298, 2299, 2300, 2301, 2302, 2303, 2304, 2305, 2306, 2307, 2308, 2309, 2310, 2311, ...], 2011: [3767, 3768, 3769, 3770, 3771, 3772, 3773, 3774, 3775, 3776, 3777, 3778, 3779, 3780, 3781, 3782, 3783, 3784, 3785, 3786, 3787, 3788, 3789, 3790, 3791, 3792, 3793, 3794, 3795, 3796, 3797, 3798, 3799, 3800, 3801, 3802, 3803, 3804, 3805, 3806, 3807, 3808, 3809, 3810, 3811, 3812, 3813, 3814, 3815, 3816, 3817, 3818, 3819, 3820, 3821, 3822, 3823, 3824, 3825, 3826, 3827, 3828, 3829, 3830, 3831, 3832, 3833, 3834, 3835, 3836, 3837, 3838, 3839, 3840, 3841, 3842, 3843, 3844, 3845, 3846, 3847, 3848, 3849, 3850, 3851, 3852, 3853, 3854, 3855, 3856, 3857, 3858, 3859, 3860, 3861, 3862, 3863, 3864, 3865, 3866, ...], 2012: [5400, 5401, 5402, 5403, 5404, 5405, 5406, 5407, 5408, 5409, 5410, 5411, 5412, 5413, 5414, 5415, 5416, 5417, 5418, 5419, 5420, 5421, 5422, 5423, 5424, 5425, 5426, 5427, 5428, 5429, 5430, 5431, 5432, 5433, 5434, 5435, 5436, 5437, 5438, 5439, 5440, 5441, 5442, 5443, 5444, 5445, 5446, 5447, 5448, 5449, 5450, 5451, 5452, 5453, 5454, 5455, 5456, 5457, 5458, 5459, 5460, 5461, 5462, 5463, 5464, 5465, 5466, 5467, 5468, 5469, 5470, 5471, 5472, 5473, 5474, 5475, 5476, 5477, 5478, 5479, 5480, 5481, 5482, 5483, 5484, 5485, 5486, 5487, 5488, 5489, 5490, 5491, 5492, 5493, 5494, 5495, 5496, 5497, 5498, 5499, ...], 2013: [7258, 7259, 7260, 7261, 7262, 7263, 7264, 7265, 7266, 7267, 7268, 7269, 7270, 7271, 7272, 7273, 7274, 7275, 7276, 7277, 7278, 7279, 7280, 7281, 7282, 7283, 7284, 7285, 7286, 7287, 7288, 7289, 7290, 7291, 7292, 7293, 7294, 7295, 7296, 7297, 7298, 7299, 7300, 7301, 7302, 7303, 7304, 7305, 7306, 7307, 7308, 7309, 7310, 7311, 7312, 7313, 7314, 7315, 7316, 7317, 7318, 7319, 7320, 7321, 7322, 7323, 7324, 7325, 7326, 7327, 7328, 7329, 7330, 7331, 7332, 7333, 7334, 7335, 7336, 7337, 7338, 7339, 7340, 7341, 7342, 7343, 7344, 7345, 7346, 7347, 7348, 7349, 7350, 7351, 7352, 7353, 7354, 7355, 7356, 7357, ...], 2014: [9377, 9378, 9379, 9380, 9381, 9382, 9383, 9384, 9385, 9386, 9387, 9388, 9389, 9390, 9391, 9392, 9393, 9394, 9395, 9396, 9397, 9398, 9399, 9400, 9401, 9402, 9403, 9404, 9405, 9406, 9407, 9408, 9409, 9410, 9411, 9412, 9413, 9414, 9415, 9416, 9417, 9418, 9419, 9420, 9421, 9422, 9423, 9424, 9425, 9426, 9427, 9428, 9429, 9430, 9431, 9432, 9433, 9434, 9435, 9436, 9437, 9438, 9439, 9440, 9441, 9442, 9443, 9444, 9445, 9446, 9447, 9448, 9449, 9450, 9451, 9452, 9453, 9454, 9455, 9456, 9457, 9458, 9459, 9460, 9461, 9462, 9463, 9464, 9465, 9466, 9467, 9468, 9469, 9470, 9471, 9472, 9473, 9474, 9475, 9476, ...], 2015: [12240, 12241, 12242, 12243, 12244, 12245, 12246, 12247, 12248, 12249, 12250, 12251, 12252, 12253, 12254, 12255, 12256, 12257, 12258, 12259, 12260, 12261, 12262, 12263, 12264, 12265, 12266, 12267, 12268, 12269, 12270, 12271, 12272, 12273, 12274, 12275, 12276, 12277, 12278, 12279, 12280, 12281, 12282, 12283, 12284, 12285, 12286, 12287, 12288, 12289, 12290, 12291, 12292, 12293, 12294, 12295, 12296, 12297, 12298, 12299, 12300, 12301, 12302, 12303, 12304, 12305, 12306, 12307, 12308, 12309, 12310, 12311, 12312, 12313, 12314, 12315, 12316, 12317, 12318, 12319, 12320, 12321, 12322, 12323, 12324, 12325, 12326, 12327, 12328, 12329, 12330, 12331, 12332, 12333, 12334, 12335, 12336, 12337, 12338, 12339, ...], 2016: [15888, 15889, 15890, 15891, 15892, 15893, 15894, 15895, 15896, 15897, 15898, 15899, 15900, 15901, 15902, 15903, 15904, 15905, 15906, 15907, 15908, 15909, 15910, 15911, 15912, 15913, 15914, 15915, 15916, 15917, 15918, 15919, 15920, 15921, 15922, 15923, 15924, 15925, 15926, 15927, 15928, 15929, 15930, 15931, 15932, 15933, 15934, 15935, 15936, 15937, 15938, 15939, 15940, 15941, 15942, 15943, 15944, 15945, 15946, 15947, 15948, 15949, 15950, 15951, 15952, 15953, 15954, 15955, 15956, 15957, 15958, 15959, 15960, 15961, 15962, 15963, 15964, 15965, 15966, 15967, 15968, 15969, 15970, 15971, 15972, 15973, 15974, 15975, 15976, 15977, 15978, 15979, 15980, 15981, 15982, 15983, 15984, 15985, 15986, 15987, ...], 2017: [19796, 19797, 19798, 19799, 19800, 19801, 19802, 19803, 19804, 19805, 19806, 19807, 19808, 19809, 19810, 19811, 19812, 19813, 19814, 19815, 19816, 19817, 19818, 19819, 19820, 19821, 19822, 19823, 19824, 19825, 19826, 19827, 19828, 19829, 19830, 19831, 19832, 19833, 19834, 19835, 19836, 19837, 19838, 19839, 19840, 19841, 19842, 19843, 19844, 19845, 19846, 19847, 19848, 19849, 19850, 19851, 19852, 19853, 19854, 19855, 19856, 19857, 19858, 19859, 19860, 19861, 19862, 19863, 19864, 19865, 19866, 19867, 19868, 19869, 19870, 19871, 19872, 19873, 19874, 19875, 19876, 19877, 19878, 19879, 19880, 19881, 19882, 19883, 19884, 19885, 19886, 19887, 19888, 19889, 19890, 19891, 19892, 19893, 19894, 19895, ...], 2018: [24337, 24338, 24339, 24340, 24341, 24342, 24343, 24344, 24345, 24346, 24347, 24348, 24349, 24350, 24351, 24352, 24353, 24354, 24355, 24356, 24357, 24358, 24359, 24360, 24361, 24362, 24363, 24364, 24365, 24366, 24367, 24368, 24369, 24370, 24371, 24372, 24373, 24374, 24375, 24376, 24377, 24378, 24379, 24380, 24381, 24382, 24383, 24384, 24385, 24386, 24387, 24388, 24389, 24390, 24391, 24392, 24393, 24394, 24395, 24396, 24397, 24398, 24399, 24400, 24401, 24402, 24403, 24404, 24405, 24406, 24407, 24408, 24409, 24410, 24411, 24412, 24413, 24414, 24415, 24416, 24417, 24418, 24419, 24420, 24421, 24422, 24423, 24424, 24425, 24426, 24427, 24428, 24429, 24430, 24431, 24432, 24433, 24434, 24435, 24436, ...]}"
      ]
     },
     "execution_count": 13,
     "metadata": {},
     "output_type": "execute_result"
    }
   ],
   "source": [
    "Sales_Y.groups"
   ]
  },
  {
   "cell_type": "code",
   "execution_count": 14,
   "id": "3d3456cb-4860-4ebd-9c23-7d07107688d5",
   "metadata": {},
   "outputs": [
    {
     "data": {
      "text/plain": [
       "{'house': [0, 1, 2, 3, 4, 5, 6, 7, 8, 9, 10, 11, 12, 14, 15, 16, 17, 19, 20, 21, 22, 23, 24, 25, 27, 28, 30, 31, 32, 33, 34, 35, 36, 37, 40, 41, 42, 43, 44, 45, 46, 47, 48, 49, 50, 51, 52, 53, 54, 55, 56, 57, 58, 59, 61, 63, 64, 65, 66, 67, 69, 70, 71, 72, 73, 75, 78, 80, 81, 82, 83, 85, 86, 87, 88, 89, 90, 91, 92, 93, 94, 95, 96, 97, 98, 99, 100, 101, 102, 103, 104, 105, 106, 107, 108, 109, 110, 111, 112, 113, ...], 'unit': [13, 18, 26, 29, 38, 39, 60, 62, 68, 74, 76, 77, 79, 84, 140, 141, 146, 155, 186, 192, 232, 254, 259, 268, 286, 287, 366, 370, 379, 392, 428, 435, 437, 443, 447, 448, 452, 460, 461, 472, 493, 496, 497, 504, 509, 510, 528, 549, 555, 565, 596, 597, 624, 644, 669, 670, 671, 724, 725, 731, 761, 773, 784, 785, 786, 787, 790, 792, 797, 810, 835, 848, 854, 864, 865, 871, 872, 877, 886, 887, 891, 892, 902, 908, 909, 910, 915, 916, 917, 926, 927, 934, 939, 940, 954, 955, 966, 974, 979, 986, ...]}"
      ]
     },
     "execution_count": 14,
     "metadata": {},
     "output_type": "execute_result"
    }
   ],
   "source": [
    "Sales_P.groups"
   ]
  },
  {
   "cell_type": "code",
   "execution_count": 16,
   "id": "9049cee9-5760-4e54-a9fd-14748e281114",
   "metadata": {},
   "outputs": [],
   "source": [
    "House=Sales_P.get_group(\"house\")"
   ]
  },
  {
   "cell_type": "code",
   "execution_count": 17,
   "id": "5dc5f5d6-c1b5-4e04-9308-75ac079d8a98",
   "metadata": {},
   "outputs": [
    {
     "data": {
      "text/html": [
       "<div>\n",
       "<style scoped>\n",
       "    .dataframe tbody tr th:only-of-type {\n",
       "        vertical-align: middle;\n",
       "    }\n",
       "\n",
       "    .dataframe tbody tr th {\n",
       "        vertical-align: top;\n",
       "    }\n",
       "\n",
       "    .dataframe thead th {\n",
       "        text-align: right;\n",
       "    }\n",
       "</style>\n",
       "<table border=\"1\" class=\"dataframe\">\n",
       "  <thead>\n",
       "    <tr style=\"text-align: right;\">\n",
       "      <th></th>\n",
       "      <th>Datesold</th>\n",
       "      <th>Postcode</th>\n",
       "      <th>Price</th>\n",
       "      <th>Property Type</th>\n",
       "      <th>Bedrooms</th>\n",
       "      <th>Year</th>\n",
       "    </tr>\n",
       "  </thead>\n",
       "  <tbody>\n",
       "    <tr>\n",
       "      <th>0</th>\n",
       "      <td>07/02/2007 00:00</td>\n",
       "      <td>2607</td>\n",
       "      <td>525000</td>\n",
       "      <td>house</td>\n",
       "      <td>4</td>\n",
       "      <td>2007</td>\n",
       "    </tr>\n",
       "    <tr>\n",
       "      <th>1</th>\n",
       "      <td>27/02/2007 00:00</td>\n",
       "      <td>2906</td>\n",
       "      <td>290000</td>\n",
       "      <td>house</td>\n",
       "      <td>3</td>\n",
       "      <td>2007</td>\n",
       "    </tr>\n",
       "    <tr>\n",
       "      <th>2</th>\n",
       "      <td>07/03/2007 00:00</td>\n",
       "      <td>2905</td>\n",
       "      <td>328000</td>\n",
       "      <td>house</td>\n",
       "      <td>3</td>\n",
       "      <td>2007</td>\n",
       "    </tr>\n",
       "    <tr>\n",
       "      <th>3</th>\n",
       "      <td>09/03/2007 00:00</td>\n",
       "      <td>2905</td>\n",
       "      <td>380000</td>\n",
       "      <td>house</td>\n",
       "      <td>4</td>\n",
       "      <td>2007</td>\n",
       "    </tr>\n",
       "    <tr>\n",
       "      <th>4</th>\n",
       "      <td>21/03/2007 00:00</td>\n",
       "      <td>2906</td>\n",
       "      <td>310000</td>\n",
       "      <td>house</td>\n",
       "      <td>3</td>\n",
       "      <td>2007</td>\n",
       "    </tr>\n",
       "    <tr>\n",
       "      <th>...</th>\n",
       "      <td>...</td>\n",
       "      <td>...</td>\n",
       "      <td>...</td>\n",
       "      <td>...</td>\n",
       "      <td>...</td>\n",
       "      <td>...</td>\n",
       "    </tr>\n",
       "    <tr>\n",
       "      <th>28185</th>\n",
       "      <td>21/12/2018 00:00</td>\n",
       "      <td>2602</td>\n",
       "      <td>910000</td>\n",
       "      <td>house</td>\n",
       "      <td>4</td>\n",
       "      <td>2018</td>\n",
       "    </tr>\n",
       "    <tr>\n",
       "      <th>28191</th>\n",
       "      <td>22/12/2018 00:00</td>\n",
       "      <td>2602</td>\n",
       "      <td>750000</td>\n",
       "      <td>house</td>\n",
       "      <td>3</td>\n",
       "      <td>2018</td>\n",
       "    </tr>\n",
       "    <tr>\n",
       "      <th>28192</th>\n",
       "      <td>24/12/2018 00:00</td>\n",
       "      <td>2914</td>\n",
       "      <td>640000</td>\n",
       "      <td>house</td>\n",
       "      <td>4</td>\n",
       "      <td>2018</td>\n",
       "    </tr>\n",
       "    <tr>\n",
       "      <th>28193</th>\n",
       "      <td>24/12/2018 00:00</td>\n",
       "      <td>2602</td>\n",
       "      <td>780000</td>\n",
       "      <td>house</td>\n",
       "      <td>3</td>\n",
       "      <td>2018</td>\n",
       "    </tr>\n",
       "    <tr>\n",
       "      <th>28194</th>\n",
       "      <td>24/12/2018 00:00</td>\n",
       "      <td>2603</td>\n",
       "      <td>1410000</td>\n",
       "      <td>house</td>\n",
       "      <td>4</td>\n",
       "      <td>2018</td>\n",
       "    </tr>\n",
       "  </tbody>\n",
       "</table>\n",
       "<p>23530 rows × 6 columns</p>\n",
       "</div>"
      ],
      "text/plain": [
       "               Datesold  Postcode    Price Property Type  Bedrooms  Year\n",
       "0      07/02/2007 00:00      2607   525000         house         4  2007\n",
       "1      27/02/2007 00:00      2906   290000         house         3  2007\n",
       "2      07/03/2007 00:00      2905   328000         house         3  2007\n",
       "3      09/03/2007 00:00      2905   380000         house         4  2007\n",
       "4      21/03/2007 00:00      2906   310000         house         3  2007\n",
       "...                 ...       ...      ...           ...       ...   ...\n",
       "28185  21/12/2018 00:00      2602   910000         house         4  2018\n",
       "28191  22/12/2018 00:00      2602   750000         house         3  2018\n",
       "28192  24/12/2018 00:00      2914   640000         house         4  2018\n",
       "28193  24/12/2018 00:00      2602   780000         house         3  2018\n",
       "28194  24/12/2018 00:00      2603  1410000         house         4  2018\n",
       "\n",
       "[23530 rows x 6 columns]"
      ]
     },
     "execution_count": 17,
     "metadata": {},
     "output_type": "execute_result"
    }
   ],
   "source": [
    "House"
   ]
  },
  {
   "cell_type": "code",
   "execution_count": 19,
   "id": "a5e10434-e09d-44e4-b38a-178831ff4bd6",
   "metadata": {},
   "outputs": [],
   "source": [
    "House_Year=House.groupby(\"Year\")"
   ]
  },
  {
   "cell_type": "code",
   "execution_count": 20,
   "id": "f441bfdb-fa25-49a0-a49c-771f923293ae",
   "metadata": {},
   "outputs": [
    {
     "data": {
      "text/plain": [
       "<pandas.core.groupby.generic.DataFrameGroupBy object at 0x00000221959E5250>"
      ]
     },
     "execution_count": 20,
     "metadata": {},
     "output_type": "execute_result"
    }
   ],
   "source": [
    "House_Year"
   ]
  },
  {
   "cell_type": "code",
   "execution_count": 22,
   "id": "e3b2b70e-9a7c-4c9a-b4d0-42272329de51",
   "metadata": {},
   "outputs": [],
   "source": [
    "House_2010=House_Year.get_group(2010)"
   ]
  },
  {
   "cell_type": "code",
   "execution_count": 23,
   "id": "e0627fa2-4ecd-4d57-a078-5c953ade335b",
   "metadata": {},
   "outputs": [
    {
     "data": {
      "text/html": [
       "<div>\n",
       "<style scoped>\n",
       "    .dataframe tbody tr th:only-of-type {\n",
       "        vertical-align: middle;\n",
       "    }\n",
       "\n",
       "    .dataframe tbody tr th {\n",
       "        vertical-align: top;\n",
       "    }\n",
       "\n",
       "    .dataframe thead th {\n",
       "        text-align: right;\n",
       "    }\n",
       "</style>\n",
       "<table border=\"1\" class=\"dataframe\">\n",
       "  <thead>\n",
       "    <tr style=\"text-align: right;\">\n",
       "      <th></th>\n",
       "      <th>Datesold</th>\n",
       "      <th>Postcode</th>\n",
       "      <th>Price</th>\n",
       "      <th>Property Type</th>\n",
       "      <th>Bedrooms</th>\n",
       "      <th>Year</th>\n",
       "    </tr>\n",
       "  </thead>\n",
       "  <tbody>\n",
       "    <tr>\n",
       "      <th>2212</th>\n",
       "      <td>04/01/2010 00:00</td>\n",
       "      <td>2615</td>\n",
       "      <td>435000</td>\n",
       "      <td>house</td>\n",
       "      <td>3</td>\n",
       "      <td>2010</td>\n",
       "    </tr>\n",
       "    <tr>\n",
       "      <th>2213</th>\n",
       "      <td>05/01/2010 00:00</td>\n",
       "      <td>2904</td>\n",
       "      <td>712000</td>\n",
       "      <td>house</td>\n",
       "      <td>4</td>\n",
       "      <td>2010</td>\n",
       "    </tr>\n",
       "    <tr>\n",
       "      <th>2214</th>\n",
       "      <td>06/01/2010 00:00</td>\n",
       "      <td>2617</td>\n",
       "      <td>435000</td>\n",
       "      <td>house</td>\n",
       "      <td>4</td>\n",
       "      <td>2010</td>\n",
       "    </tr>\n",
       "    <tr>\n",
       "      <th>2215</th>\n",
       "      <td>06/01/2010 00:00</td>\n",
       "      <td>2606</td>\n",
       "      <td>1350000</td>\n",
       "      <td>house</td>\n",
       "      <td>5</td>\n",
       "      <td>2010</td>\n",
       "    </tr>\n",
       "    <tr>\n",
       "      <th>2216</th>\n",
       "      <td>07/01/2010 00:00</td>\n",
       "      <td>2905</td>\n",
       "      <td>612500</td>\n",
       "      <td>house</td>\n",
       "      <td>4</td>\n",
       "      <td>2010</td>\n",
       "    </tr>\n",
       "    <tr>\n",
       "      <th>...</th>\n",
       "      <td>...</td>\n",
       "      <td>...</td>\n",
       "      <td>...</td>\n",
       "      <td>...</td>\n",
       "      <td>...</td>\n",
       "      <td>...</td>\n",
       "    </tr>\n",
       "    <tr>\n",
       "      <th>3760</th>\n",
       "      <td>23/12/2010 00:00</td>\n",
       "      <td>2902</td>\n",
       "      <td>687000</td>\n",
       "      <td>house</td>\n",
       "      <td>4</td>\n",
       "      <td>2010</td>\n",
       "    </tr>\n",
       "    <tr>\n",
       "      <th>3761</th>\n",
       "      <td>23/12/2010 00:00</td>\n",
       "      <td>2602</td>\n",
       "      <td>767000</td>\n",
       "      <td>house</td>\n",
       "      <td>4</td>\n",
       "      <td>2010</td>\n",
       "    </tr>\n",
       "    <tr>\n",
       "      <th>3762</th>\n",
       "      <td>24/12/2010 00:00</td>\n",
       "      <td>2615</td>\n",
       "      <td>447000</td>\n",
       "      <td>house</td>\n",
       "      <td>4</td>\n",
       "      <td>2010</td>\n",
       "    </tr>\n",
       "    <tr>\n",
       "      <th>3763</th>\n",
       "      <td>24/12/2010 00:00</td>\n",
       "      <td>2913</td>\n",
       "      <td>457500</td>\n",
       "      <td>house</td>\n",
       "      <td>3</td>\n",
       "      <td>2010</td>\n",
       "    </tr>\n",
       "    <tr>\n",
       "      <th>3764</th>\n",
       "      <td>24/12/2010 00:00</td>\n",
       "      <td>2602</td>\n",
       "      <td>595000</td>\n",
       "      <td>house</td>\n",
       "      <td>3</td>\n",
       "      <td>2010</td>\n",
       "    </tr>\n",
       "  </tbody>\n",
       "</table>\n",
       "<p>1374 rows × 6 columns</p>\n",
       "</div>"
      ],
      "text/plain": [
       "              Datesold  Postcode    Price Property Type  Bedrooms  Year\n",
       "2212  04/01/2010 00:00      2615   435000         house         3  2010\n",
       "2213  05/01/2010 00:00      2904   712000         house         4  2010\n",
       "2214  06/01/2010 00:00      2617   435000         house         4  2010\n",
       "2215  06/01/2010 00:00      2606  1350000         house         5  2010\n",
       "2216  07/01/2010 00:00      2905   612500         house         4  2010\n",
       "...                ...       ...      ...           ...       ...   ...\n",
       "3760  23/12/2010 00:00      2902   687000         house         4  2010\n",
       "3761  23/12/2010 00:00      2602   767000         house         4  2010\n",
       "3762  24/12/2010 00:00      2615   447000         house         4  2010\n",
       "3763  24/12/2010 00:00      2913   457500         house         3  2010\n",
       "3764  24/12/2010 00:00      2602   595000         house         3  2010\n",
       "\n",
       "[1374 rows x 6 columns]"
      ]
     },
     "execution_count": 23,
     "metadata": {},
     "output_type": "execute_result"
    }
   ],
   "source": [
    "House_2010"
   ]
  },
  {
   "cell_type": "code",
   "execution_count": 25,
   "id": "c4fe1fc5-0c69-48ae-bd43-a2b36b346d3d",
   "metadata": {},
   "outputs": [
    {
     "data": {
      "text/html": [
       "<div>\n",
       "<style scoped>\n",
       "    .dataframe tbody tr th:only-of-type {\n",
       "        vertical-align: middle;\n",
       "    }\n",
       "\n",
       "    .dataframe tbody tr th {\n",
       "        vertical-align: top;\n",
       "    }\n",
       "\n",
       "    .dataframe thead th {\n",
       "        text-align: right;\n",
       "    }\n",
       "</style>\n",
       "<table border=\"1\" class=\"dataframe\">\n",
       "  <thead>\n",
       "    <tr style=\"text-align: right;\">\n",
       "      <th></th>\n",
       "      <th>Datesold</th>\n",
       "      <th>Postcode</th>\n",
       "      <th>Price</th>\n",
       "      <th>Property Type</th>\n",
       "      <th>Bedrooms</th>\n",
       "      <th>Year</th>\n",
       "    </tr>\n",
       "  </thead>\n",
       "  <tbody>\n",
       "    <tr>\n",
       "      <th>3262</th>\n",
       "      <td>21/09/2010 00:00</td>\n",
       "      <td>2606</td>\n",
       "      <td>110000</td>\n",
       "      <td>house</td>\n",
       "      <td>4</td>\n",
       "      <td>2010</td>\n",
       "    </tr>\n",
       "  </tbody>\n",
       "</table>\n",
       "</div>"
      ],
      "text/plain": [
       "              Datesold  Postcode   Price Property Type  Bedrooms  Year\n",
       "3262  21/09/2010 00:00      2606  110000         house         4  2010"
      ]
     },
     "execution_count": 25,
     "metadata": {},
     "output_type": "execute_result"
    }
   ],
   "source": [
    "House_2010[House_2010[\"Price\"].min()==House_2010[\"Price\"]]"
   ]
  },
  {
   "cell_type": "code",
   "execution_count": 26,
   "id": "387c4acc-b796-4004-b875-8122c877073d",
   "metadata": {},
   "outputs": [],
   "source": [
    "House_2017=House_Year.get_group(2017)"
   ]
  },
  {
   "cell_type": "code",
   "execution_count": 28,
   "id": "21e19bb9-c6aa-45b5-b335-980d4290698e",
   "metadata": {},
   "outputs": [
    {
     "data": {
      "text/html": [
       "<div>\n",
       "<style scoped>\n",
       "    .dataframe tbody tr th:only-of-type {\n",
       "        vertical-align: middle;\n",
       "    }\n",
       "\n",
       "    .dataframe tbody tr th {\n",
       "        vertical-align: top;\n",
       "    }\n",
       "\n",
       "    .dataframe thead th {\n",
       "        text-align: right;\n",
       "    }\n",
       "</style>\n",
       "<table border=\"1\" class=\"dataframe\">\n",
       "  <thead>\n",
       "    <tr style=\"text-align: right;\">\n",
       "      <th></th>\n",
       "      <th>Datesold</th>\n",
       "      <th>Postcode</th>\n",
       "      <th>Price</th>\n",
       "      <th>Property Type</th>\n",
       "      <th>Bedrooms</th>\n",
       "      <th>Year</th>\n",
       "    </tr>\n",
       "  </thead>\n",
       "  <tbody>\n",
       "    <tr>\n",
       "      <th>23800</th>\n",
       "      <td>21/11/2017 00:00</td>\n",
       "      <td>2603</td>\n",
       "      <td>4700000</td>\n",
       "      <td>house</td>\n",
       "      <td>4</td>\n",
       "      <td>2017</td>\n",
       "    </tr>\n",
       "  </tbody>\n",
       "</table>\n",
       "</div>"
      ],
      "text/plain": [
       "               Datesold  Postcode    Price Property Type  Bedrooms  Year\n",
       "23800  21/11/2017 00:00      2603  4700000         house         4  2017"
      ]
     },
     "execution_count": 28,
     "metadata": {},
     "output_type": "execute_result"
    }
   ],
   "source": [
    "House_2017[House_2017[\"Price\"].max()==House_2017[\"Price\"]]"
   ]
  },
  {
   "cell_type": "code",
   "execution_count": 29,
   "id": "0f84f25f-998d-4954-a120-b564ed24ce1c",
   "metadata": {},
   "outputs": [],
   "source": [
    "H_B=House.groupby(\"Bedrooms\")"
   ]
  },
  {
   "cell_type": "code",
   "execution_count": 30,
   "id": "a1540e16-5673-48fa-a451-36681e37969c",
   "metadata": {},
   "outputs": [],
   "source": [
    "H_5=H_B.get_group(5)"
   ]
  },
  {
   "cell_type": "code",
   "execution_count": 31,
   "id": "3e65ab6e-3095-40ef-9113-363acbac42b0",
   "metadata": {},
   "outputs": [
    {
     "data": {
      "text/html": [
       "<div>\n",
       "<style scoped>\n",
       "    .dataframe tbody tr th:only-of-type {\n",
       "        vertical-align: middle;\n",
       "    }\n",
       "\n",
       "    .dataframe tbody tr th {\n",
       "        vertical-align: top;\n",
       "    }\n",
       "\n",
       "    .dataframe thead th {\n",
       "        text-align: right;\n",
       "    }\n",
       "</style>\n",
       "<table border=\"1\" class=\"dataframe\">\n",
       "  <thead>\n",
       "    <tr style=\"text-align: right;\">\n",
       "      <th></th>\n",
       "      <th>Datesold</th>\n",
       "      <th>Postcode</th>\n",
       "      <th>Price</th>\n",
       "      <th>Property Type</th>\n",
       "      <th>Bedrooms</th>\n",
       "      <th>Year</th>\n",
       "    </tr>\n",
       "  </thead>\n",
       "  <tbody>\n",
       "    <tr>\n",
       "      <th>16</th>\n",
       "      <td>02/07/2007 00:00</td>\n",
       "      <td>2914</td>\n",
       "      <td>800000</td>\n",
       "      <td>house</td>\n",
       "      <td>5</td>\n",
       "      <td>2007</td>\n",
       "    </tr>\n",
       "    <tr>\n",
       "      <th>19</th>\n",
       "      <td>06/07/2007 00:00</td>\n",
       "      <td>2615</td>\n",
       "      <td>535000</td>\n",
       "      <td>house</td>\n",
       "      <td>5</td>\n",
       "      <td>2007</td>\n",
       "    </tr>\n",
       "    <tr>\n",
       "      <th>37</th>\n",
       "      <td>07/08/2007 00:00</td>\n",
       "      <td>2904</td>\n",
       "      <td>815000</td>\n",
       "      <td>house</td>\n",
       "      <td>5</td>\n",
       "      <td>2007</td>\n",
       "    </tr>\n",
       "    <tr>\n",
       "      <th>47</th>\n",
       "      <td>21/08/2007 00:00</td>\n",
       "      <td>2902</td>\n",
       "      <td>418000</td>\n",
       "      <td>house</td>\n",
       "      <td>5</td>\n",
       "      <td>2007</td>\n",
       "    </tr>\n",
       "    <tr>\n",
       "      <th>69</th>\n",
       "      <td>21/09/2007 00:00</td>\n",
       "      <td>2603</td>\n",
       "      <td>1460000</td>\n",
       "      <td>house</td>\n",
       "      <td>5</td>\n",
       "      <td>2007</td>\n",
       "    </tr>\n",
       "    <tr>\n",
       "      <th>...</th>\n",
       "      <td>...</td>\n",
       "      <td>...</td>\n",
       "      <td>...</td>\n",
       "      <td>...</td>\n",
       "      <td>...</td>\n",
       "      <td>...</td>\n",
       "    </tr>\n",
       "    <tr>\n",
       "      <th>28097</th>\n",
       "      <td>14/12/2018 00:00</td>\n",
       "      <td>2905</td>\n",
       "      <td>720000</td>\n",
       "      <td>house</td>\n",
       "      <td>5</td>\n",
       "      <td>2018</td>\n",
       "    </tr>\n",
       "    <tr>\n",
       "      <th>28099</th>\n",
       "      <td>14/12/2018 00:00</td>\n",
       "      <td>2602</td>\n",
       "      <td>975000</td>\n",
       "      <td>house</td>\n",
       "      <td>5</td>\n",
       "      <td>2018</td>\n",
       "    </tr>\n",
       "    <tr>\n",
       "      <th>28112</th>\n",
       "      <td>15/12/2018 00:00</td>\n",
       "      <td>2607</td>\n",
       "      <td>1115000</td>\n",
       "      <td>house</td>\n",
       "      <td>5</td>\n",
       "      <td>2018</td>\n",
       "    </tr>\n",
       "    <tr>\n",
       "      <th>28115</th>\n",
       "      <td>16/12/2018 00:00</td>\n",
       "      <td>2611</td>\n",
       "      <td>1000000</td>\n",
       "      <td>house</td>\n",
       "      <td>5</td>\n",
       "      <td>2018</td>\n",
       "    </tr>\n",
       "    <tr>\n",
       "      <th>28181</th>\n",
       "      <td>21/12/2018 00:00</td>\n",
       "      <td>2615</td>\n",
       "      <td>820000</td>\n",
       "      <td>house</td>\n",
       "      <td>5</td>\n",
       "      <td>2018</td>\n",
       "    </tr>\n",
       "  </tbody>\n",
       "</table>\n",
       "<p>1852 rows × 6 columns</p>\n",
       "</div>"
      ],
      "text/plain": [
       "               Datesold  Postcode    Price Property Type  Bedrooms  Year\n",
       "16     02/07/2007 00:00      2914   800000         house         5  2007\n",
       "19     06/07/2007 00:00      2615   535000         house         5  2007\n",
       "37     07/08/2007 00:00      2904   815000         house         5  2007\n",
       "47     21/08/2007 00:00      2902   418000         house         5  2007\n",
       "69     21/09/2007 00:00      2603  1460000         house         5  2007\n",
       "...                 ...       ...      ...           ...       ...   ...\n",
       "28097  14/12/2018 00:00      2905   720000         house         5  2018\n",
       "28099  14/12/2018 00:00      2602   975000         house         5  2018\n",
       "28112  15/12/2018 00:00      2607  1115000         house         5  2018\n",
       "28115  16/12/2018 00:00      2611  1000000         house         5  2018\n",
       "28181  21/12/2018 00:00      2615   820000         house         5  2018\n",
       "\n",
       "[1852 rows x 6 columns]"
      ]
     },
     "execution_count": 31,
     "metadata": {},
     "output_type": "execute_result"
    }
   ],
   "source": [
    "H_5"
   ]
  },
  {
   "cell_type": "code",
   "execution_count": 32,
   "id": "dff07015-6611-4fe9-8014-f65652857785",
   "metadata": {},
   "outputs": [],
   "source": [
    "Unit=Sales_P.get_group(\"unit\")"
   ]
  },
  {
   "cell_type": "code",
   "execution_count": 33,
   "id": "0ef10be2-a943-4f56-94b9-b09f27d08623",
   "metadata": {},
   "outputs": [
    {
     "data": {
      "text/html": [
       "<div>\n",
       "<style scoped>\n",
       "    .dataframe tbody tr th:only-of-type {\n",
       "        vertical-align: middle;\n",
       "    }\n",
       "\n",
       "    .dataframe tbody tr th {\n",
       "        vertical-align: top;\n",
       "    }\n",
       "\n",
       "    .dataframe thead th {\n",
       "        text-align: right;\n",
       "    }\n",
       "</style>\n",
       "<table border=\"1\" class=\"dataframe\">\n",
       "  <thead>\n",
       "    <tr style=\"text-align: right;\">\n",
       "      <th></th>\n",
       "      <th>Datesold</th>\n",
       "      <th>Postcode</th>\n",
       "      <th>Price</th>\n",
       "      <th>Property Type</th>\n",
       "      <th>Bedrooms</th>\n",
       "      <th>Year</th>\n",
       "    </tr>\n",
       "  </thead>\n",
       "  <tbody>\n",
       "    <tr>\n",
       "      <th>12179</th>\n",
       "      <td>18/12/2014 00:00</td>\n",
       "      <td>2612</td>\n",
       "      <td>85000</td>\n",
       "      <td>unit</td>\n",
       "      <td>1</td>\n",
       "      <td>2014</td>\n",
       "    </tr>\n",
       "  </tbody>\n",
       "</table>\n",
       "</div>"
      ],
      "text/plain": [
       "               Datesold  Postcode  Price Property Type  Bedrooms  Year\n",
       "12179  18/12/2014 00:00      2612  85000          unit         1  2014"
      ]
     },
     "execution_count": 33,
     "metadata": {},
     "output_type": "execute_result"
    }
   ],
   "source": [
    "Unit[Unit[\"Price\"].min()==Unit[\"Price\"]]"
   ]
  },
  {
   "cell_type": "code",
   "execution_count": 34,
   "id": "04215e76-5450-4817-abd6-a489822c96d9",
   "metadata": {},
   "outputs": [],
   "source": [
    "Y_2008=Sales_Y.get_group(2008)"
   ]
  },
  {
   "cell_type": "code",
   "execution_count": 35,
   "id": "d2fd21de-a97e-4255-858a-7e087083b1f2",
   "metadata": {},
   "outputs": [
    {
     "data": {
      "text/html": [
       "<div>\n",
       "<style scoped>\n",
       "    .dataframe tbody tr th:only-of-type {\n",
       "        vertical-align: middle;\n",
       "    }\n",
       "\n",
       "    .dataframe tbody tr th {\n",
       "        vertical-align: top;\n",
       "    }\n",
       "\n",
       "    .dataframe thead th {\n",
       "        text-align: right;\n",
       "    }\n",
       "</style>\n",
       "<table border=\"1\" class=\"dataframe\">\n",
       "  <thead>\n",
       "    <tr style=\"text-align: right;\">\n",
       "      <th></th>\n",
       "      <th>Datesold</th>\n",
       "      <th>Postcode</th>\n",
       "      <th>Price</th>\n",
       "      <th>Property Type</th>\n",
       "      <th>Bedrooms</th>\n",
       "      <th>Year</th>\n",
       "    </tr>\n",
       "  </thead>\n",
       "  <tbody>\n",
       "    <tr>\n",
       "      <th>147</th>\n",
       "      <td>02/01/2008 00:00</td>\n",
       "      <td>2906</td>\n",
       "      <td>309000</td>\n",
       "      <td>house</td>\n",
       "      <td>2</td>\n",
       "      <td>2008</td>\n",
       "    </tr>\n",
       "    <tr>\n",
       "      <th>148</th>\n",
       "      <td>14/01/2008 00:00</td>\n",
       "      <td>2602</td>\n",
       "      <td>413000</td>\n",
       "      <td>house</td>\n",
       "      <td>3</td>\n",
       "      <td>2008</td>\n",
       "    </tr>\n",
       "    <tr>\n",
       "      <th>149</th>\n",
       "      <td>15/01/2008 00:00</td>\n",
       "      <td>2905</td>\n",
       "      <td>445000</td>\n",
       "      <td>house</td>\n",
       "      <td>4</td>\n",
       "      <td>2008</td>\n",
       "    </tr>\n",
       "    <tr>\n",
       "      <th>150</th>\n",
       "      <td>15/01/2008 00:00</td>\n",
       "      <td>2902</td>\n",
       "      <td>600000</td>\n",
       "      <td>house</td>\n",
       "      <td>4</td>\n",
       "      <td>2008</td>\n",
       "    </tr>\n",
       "    <tr>\n",
       "      <th>151</th>\n",
       "      <td>17/01/2008 00:00</td>\n",
       "      <td>2605</td>\n",
       "      <td>417500</td>\n",
       "      <td>house</td>\n",
       "      <td>2</td>\n",
       "      <td>2008</td>\n",
       "    </tr>\n",
       "    <tr>\n",
       "      <th>...</th>\n",
       "      <td>...</td>\n",
       "      <td>...</td>\n",
       "      <td>...</td>\n",
       "      <td>...</td>\n",
       "      <td>...</td>\n",
       "      <td>...</td>\n",
       "    </tr>\n",
       "    <tr>\n",
       "      <th>781</th>\n",
       "      <td>24/12/2008 00:00</td>\n",
       "      <td>2905</td>\n",
       "      <td>400000</td>\n",
       "      <td>house</td>\n",
       "      <td>3</td>\n",
       "      <td>2008</td>\n",
       "    </tr>\n",
       "    <tr>\n",
       "      <th>782</th>\n",
       "      <td>24/12/2008 00:00</td>\n",
       "      <td>2904</td>\n",
       "      <td>499000</td>\n",
       "      <td>house</td>\n",
       "      <td>4</td>\n",
       "      <td>2008</td>\n",
       "    </tr>\n",
       "    <tr>\n",
       "      <th>783</th>\n",
       "      <td>24/12/2008 00:00</td>\n",
       "      <td>2600</td>\n",
       "      <td>1057500</td>\n",
       "      <td>house</td>\n",
       "      <td>4</td>\n",
       "      <td>2008</td>\n",
       "    </tr>\n",
       "    <tr>\n",
       "      <th>784</th>\n",
       "      <td>24/12/2008 00:00</td>\n",
       "      <td>2606</td>\n",
       "      <td>400000</td>\n",
       "      <td>unit</td>\n",
       "      <td>3</td>\n",
       "      <td>2008</td>\n",
       "    </tr>\n",
       "    <tr>\n",
       "      <th>785</th>\n",
       "      <td>24/12/2008 00:00</td>\n",
       "      <td>2612</td>\n",
       "      <td>440000</td>\n",
       "      <td>unit</td>\n",
       "      <td>2</td>\n",
       "      <td>2008</td>\n",
       "    </tr>\n",
       "  </tbody>\n",
       "</table>\n",
       "<p>639 rows × 6 columns</p>\n",
       "</div>"
      ],
      "text/plain": [
       "             Datesold  Postcode    Price Property Type  Bedrooms  Year\n",
       "147  02/01/2008 00:00      2906   309000         house         2  2008\n",
       "148  14/01/2008 00:00      2602   413000         house         3  2008\n",
       "149  15/01/2008 00:00      2905   445000         house         4  2008\n",
       "150  15/01/2008 00:00      2902   600000         house         4  2008\n",
       "151  17/01/2008 00:00      2605   417500         house         2  2008\n",
       "..                ...       ...      ...           ...       ...   ...\n",
       "781  24/12/2008 00:00      2905   400000         house         3  2008\n",
       "782  24/12/2008 00:00      2904   499000         house         4  2008\n",
       "783  24/12/2008 00:00      2600  1057500         house         4  2008\n",
       "784  24/12/2008 00:00      2606   400000          unit         3  2008\n",
       "785  24/12/2008 00:00      2612   440000          unit         2  2008\n",
       "\n",
       "[639 rows x 6 columns]"
      ]
     },
     "execution_count": 35,
     "metadata": {},
     "output_type": "execute_result"
    }
   ],
   "source": [
    "Y_2008"
   ]
  },
  {
   "cell_type": "code",
   "execution_count": 37,
   "id": "f85e0c80-d419-4751-b5b1-d27f982d70b5",
   "metadata": {},
   "outputs": [],
   "source": [
    "F=Y_2008[Y_2008[\"Price\"].min()==Y_2008[\"Price\"]]"
   ]
  },
  {
   "cell_type": "code",
   "execution_count": 38,
   "id": "787cfce0-9182-4bbf-b9d3-138cf9114a29",
   "metadata": {},
   "outputs": [
    {
     "data": {
      "text/html": [
       "<div>\n",
       "<style scoped>\n",
       "    .dataframe tbody tr th:only-of-type {\n",
       "        vertical-align: middle;\n",
       "    }\n",
       "\n",
       "    .dataframe tbody tr th {\n",
       "        vertical-align: top;\n",
       "    }\n",
       "\n",
       "    .dataframe thead th {\n",
       "        text-align: right;\n",
       "    }\n",
       "</style>\n",
       "<table border=\"1\" class=\"dataframe\">\n",
       "  <thead>\n",
       "    <tr style=\"text-align: right;\">\n",
       "      <th></th>\n",
       "      <th>Datesold</th>\n",
       "      <th>Postcode</th>\n",
       "      <th>Price</th>\n",
       "      <th>Property Type</th>\n",
       "      <th>Bedrooms</th>\n",
       "      <th>Year</th>\n",
       "    </tr>\n",
       "  </thead>\n",
       "  <tbody>\n",
       "    <tr>\n",
       "      <th>493</th>\n",
       "      <td>21/10/2008 00:00</td>\n",
       "      <td>2612</td>\n",
       "      <td>90000</td>\n",
       "      <td>unit</td>\n",
       "      <td>0</td>\n",
       "      <td>2008</td>\n",
       "    </tr>\n",
       "  </tbody>\n",
       "</table>\n",
       "</div>"
      ],
      "text/plain": [
       "             Datesold  Postcode  Price Property Type  Bedrooms  Year\n",
       "493  21/10/2008 00:00      2612  90000          unit         0  2008"
      ]
     },
     "execution_count": 38,
     "metadata": {},
     "output_type": "execute_result"
    }
   ],
   "source": [
    "F"
   ]
  },
  {
   "cell_type": "code",
   "execution_count": 41,
   "id": "113c5ecf-1265-4751-b22c-47917149a7c3",
   "metadata": {},
   "outputs": [
    {
     "data": {
      "text/plain": [
       "680150.1335200747"
      ]
     },
     "execution_count": 41,
     "metadata": {},
     "output_type": "execute_result"
    }
   ],
   "source": [
    "Sales.groupby(\"Property Type\").get_group(\"house\").groupby(\"Year\").get_group(2016)[\"Price\"].mean()"
   ]
  },
  {
   "cell_type": "code",
   "execution_count": 42,
   "id": "0b833d76-898b-4aaf-978c-fc76a35bb07c",
   "metadata": {},
   "outputs": [
    {
     "data": {
      "text/plain": [
       "2185322379"
      ]
     },
     "execution_count": 42,
     "metadata": {},
     "output_type": "execute_result"
    }
   ],
   "source": [
    "Sales.groupby(\"Property Type\").get_group(\"house\").groupby(\"Year\").get_group(2016)[\"Price\"].sum()"
   ]
  },
  {
   "cell_type": "code",
   "execution_count": 43,
   "id": "3ad41bd1-78f2-4b11-9d26-350d1eaa52ab",
   "metadata": {},
   "outputs": [],
   "source": [
    "Filter_post=Sales.groupby(\"Postcode\").get_group(2617).groupby(\"Property Type\").get_group(\"house\")[\"Price\"].min()"
   ]
  },
  {
   "cell_type": "code",
   "execution_count": 44,
   "id": "c60492e5-2d92-4a55-8b36-ec6fa3d7f4bc",
   "metadata": {},
   "outputs": [],
   "source": [
    "house_group=Sales.groupby(\"Property Type\").get_group(\"house\")"
   ]
  },
  {
   "cell_type": "code",
   "execution_count": 45,
   "id": "59b4f21d-c3ea-4b07-bdaa-e8ddc8021bb4",
   "metadata": {},
   "outputs": [
    {
     "name": "stderr",
     "output_type": "stream",
     "text": [
      "C:\\Users\\dia\\AppData\\Local\\Temp\\ipykernel_8496\\2902131701.py:1: UserWarning: Boolean Series key will be reindexed to match DataFrame index.\n",
      "  house_group[Filter_post==Sales[\"Price\"]]\n"
     ]
    },
    {
     "data": {
      "text/html": [
       "<div>\n",
       "<style scoped>\n",
       "    .dataframe tbody tr th:only-of-type {\n",
       "        vertical-align: middle;\n",
       "    }\n",
       "\n",
       "    .dataframe tbody tr th {\n",
       "        vertical-align: top;\n",
       "    }\n",
       "\n",
       "    .dataframe thead th {\n",
       "        text-align: right;\n",
       "    }\n",
       "</style>\n",
       "<table border=\"1\" class=\"dataframe\">\n",
       "  <thead>\n",
       "    <tr style=\"text-align: right;\">\n",
       "      <th></th>\n",
       "      <th>Datesold</th>\n",
       "      <th>Postcode</th>\n",
       "      <th>Price</th>\n",
       "      <th>Property Type</th>\n",
       "      <th>Bedrooms</th>\n",
       "      <th>Year</th>\n",
       "    </tr>\n",
       "  </thead>\n",
       "  <tbody>\n",
       "    <tr>\n",
       "      <th>18279</th>\n",
       "      <td>30/08/2016 00:00</td>\n",
       "      <td>2617</td>\n",
       "      <td>240000</td>\n",
       "      <td>house</td>\n",
       "      <td>1</td>\n",
       "      <td>2016</td>\n",
       "    </tr>\n",
       "    <tr>\n",
       "      <th>23936</th>\n",
       "      <td>30/11/2017 00:00</td>\n",
       "      <td>2605</td>\n",
       "      <td>240000</td>\n",
       "      <td>house</td>\n",
       "      <td>1</td>\n",
       "      <td>2017</td>\n",
       "    </tr>\n",
       "  </tbody>\n",
       "</table>\n",
       "</div>"
      ],
      "text/plain": [
       "               Datesold  Postcode   Price Property Type  Bedrooms  Year\n",
       "18279  30/08/2016 00:00      2617  240000         house         1  2016\n",
       "23936  30/11/2017 00:00      2605  240000         house         1  2017"
      ]
     },
     "execution_count": 45,
     "metadata": {},
     "output_type": "execute_result"
    }
   ],
   "source": [
    "house_group[Filter_post==Sales[\"Price\"]]"
   ]
  },
  {
   "cell_type": "code",
   "execution_count": 46,
   "id": "e2b36e1a-73bb-4c38-ab87-dca3197abd26",
   "metadata": {},
   "outputs": [],
   "source": [
    "Labels=[\"Zero\",\"One\",\"Two\",\"Three\",\"Four\",\"Five\"]"
   ]
  },
  {
   "cell_type": "code",
   "execution_count": 47,
   "id": "b450f888-14f1-40e8-b61c-75453c357de3",
   "metadata": {},
   "outputs": [],
   "source": [
    "Bedroom=Sales.groupby(\"Property Type\").get_group(\"house\").groupby(\"Bedrooms\")"
   ]
  },
  {
   "cell_type": "code",
   "execution_count": 49,
   "id": "4c142035-fa2f-4cfc-9bb2-865dd7d9f039",
   "metadata": {},
   "outputs": [],
   "source": [
    "Counts=[len(Bedroom.get_group(0)),len(Bedroom.get_group(1)),len(Bedroom.get_group(2)),len(Bedroom.get_group(3)),len(Bedroom.get_group(4)),len(Bedroom.get_group(5))]"
   ]
  },
  {
   "cell_type": "code",
   "execution_count": 53,
   "id": "57a8811b-e50a-4493-a1b4-bfbe560a06e4",
   "metadata": {},
   "outputs": [
    {
     "data": {
      "image/png": "[encoded data removed]",
      "text/plain": [
       "<Figure size 1400x800 with 1 Axes>"
      ]
     },
     "metadata": {},
     "output_type": "display_data"
    }
   ],
   "source": [
    "Figure, Axes=plt.subplots(figsize=(14,8))\n",
    "Axes.pie(Counts, labels=Labels, autopct=\"%1.1f%%\", explode=[0.1,0.3,0.1,0.1,0.1,0.1])\n",
    "Axes.legend()\n",
    "plt.show()"
   ]
  },
  {
   "cell_type": "code",
   "execution_count": 55,
   "id": "2131570d-e39c-44fa-96b8-aa4b65c0fb7c",
   "metadata": {},
   "outputs": [
    {
     "data": {
      "image/png": "[encoded data removed]",
      "text/plain": [
       "<Figure size 1400x600 with 4 Axes>"
      ]
     },
     "metadata": {},
     "output_type": "display_data"
    }
   ],
   "source": [
    "histogram=Sales.hist(figsize=(14,6))"
   ]
  },
  {
   "cell_type": "code",
   "execution_count": null,
   "id": "3e32f27d-bf92-4a5d-98b2-de0b62ecb420",
   "metadata": {},
   "outputs": [],
   "source": []
  }
 ],
 "metadata": {
  "kernelspec": {
   "display_name": "Python 3 (ipykernel)",
   "language": "python",
   "name": "python3"
  },
  "language_info": {
   "codemirror_mode": {
    "name": "ipython",
    "version": 3
   },
   "file_extension": ".py",
   "mimetype": "text/x-python",
   "name": "python",
   "nbconvert_exporter": "python",
   "pygments_lexer": "ipython3",
   "version": "3.11.7"
  }
 },
 "nbformat": 4,
 "nbformat_minor": 5
}
